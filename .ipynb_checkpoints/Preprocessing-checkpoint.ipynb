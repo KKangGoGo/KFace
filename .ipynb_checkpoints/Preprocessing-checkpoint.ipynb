{
 "cells": [
  {
   "cell_type": "code",
   "execution_count": 4,
   "id": "30c6a310-a540-44ec-9836-9bce1f81c28b",
   "metadata": {},
   "outputs": [],
   "source": [
    "from PIL import Image\n",
    "import os\n",
    "from zipfile import ZipFile"
   ]
  },
  {
   "cell_type": "code",
   "execution_count": 10,
   "id": "2d4e0492-a06f-43f8-aba5-0f5a0dea3644",
   "metadata": {},
   "outputs": [
    {
     "data": {
      "text/plain": [
       "['19062421.zip', '19062431.zip']"
      ]
     },
     "execution_count": 10,
     "metadata": {},
     "output_type": "execute_result"
    }
   ],
   "source": [
    "# Dataset 위치\n",
    "dataset_path = 'Dataset/'\n",
    "zip_list = os.listdir(dataset_path)\n",
    "zip_list.remove('.ipynb_checkpoints')\n",
    "zip_list"
   ]
  },
  {
   "cell_type": "code",
   "execution_count": 13,
   "id": "745324c9-092a-45cc-bd9f-6ba314df6f4d",
   "metadata": {
    "tags": []
   },
   "outputs": [
    {
     "name": "stdout",
     "output_type": "stream",
     "text": [
      "19062421.zipunzip 시작\n",
      "19062421.zipunzip 완료\n",
      "19062431.zipunzip 시작\n",
      "19062431.zipunzip 완료\n"
     ]
    }
   ],
   "source": [
    "# unzip dataset\n",
    "for z in zip_list:\n",
    "    with ZipFile(dataset_path + z, 'r') as zip:\n",
    "        print(z + ': unzip 시작')\n",
    "        zip.extractall(dataset_path + z.replace('.zip' ,''))\n",
    "        print(z + ': unzip 완료')"
   ]
  },
  {
   "cell_type": "code",
   "execution_count": null,
   "id": "d16a17a0-7e52-4355-9108-b2f9b92deeb0",
   "metadata": {},
   "outputs": [],
   "source": [
    "# bbox가 어떤 것인지 확인\n",
    "def bbox_type():\n",
    "    "
   ]
  },
  {
   "cell_type": "code",
   "execution_count": null,
   "id": "4f3eb7f9-4a6a-4218-888b-0a7925810874",
   "metadata": {},
   "outputs": [],
   "source": [
    "# 전처리한 데이터를 저장한 디렉토리 생성\n",
    "def createDir(dir_name):\n",
    "    try:\n",
    "        if not os.path.exists(dir_name):\n",
    "            os.makedirs(dir_name)\n",
    "    except OSError:\n",
    "        print('Error: 디렉터리 생성오류. 디렉토리명: ' + dir_name)"
   ]
  },
  {
   "cell_type": "code",
   "execution_count": 27,
   "id": "6a59efb0-da97-4041-b167-6ca40b000303",
   "metadata": {},
   "outputs": [],
   "source": [
    "# 사용할 사진 경로\n",
    "accessory = 'S001'  # 보통, 안경\n",
    "light = 'L1'\n",
    "emotion = ('E01', 'E02')      # 무표정, 웃음\n",
    "camera = ('C4', 'C5', 'C6', 'C7', 'C8', 'C9', 'C10', 'C11', 'C15', 'C16', 'C17', 'C18', 'C19', 'C20')"
   ]
  },
  {
   "cell_type": "code",
   "execution_count": 29,
   "id": "504d6722-c146-4600-bca6-0815ba3c59a5",
   "metadata": {},
   "outputs": [],
   "source": [
    "# crop image\n",
    "processed_path = \"ProcessedDataset/\"\n",
    "test = ''\n",
    "for z in zip_list:\n",
    "    for e in emotion:\n",
    "        for c in camera:\n",
    "            path = '/{id}/{accessory}/{light}/{emotion}/{camera}'.format(\n",
    "                id=z.replace('.zip', ''), \n",
    "                accessory=accessory,\n",
    "                light=light,\n",
    "                emotion=e,\n",
    "                camera=c\n",
    "            )\n",
    "            img_path = path + '.jpg'\n",
    "            txt_path = path + '.txt'\n",
    "            # bbox에서 양쪽 귀 좌표 추출\n",
    "\n",
    "\n",
    "            # crop\n",
    "            img = Image.open(dataset_path +img_path)\n",
    "                \n",
    "\n"
   ]
  },
  {
   "cell_type": "code",
   "execution_count": 59,
   "id": "5a5b4fa7-b9ac-4345-b2a6-30b59a5b6fae",
   "metadata": {},
   "outputs": [
    {
     "name": "stdout",
     "output_type": "stream",
     "text": [
      "87\t60\n",
      "\n",
      "78\t50\n",
      "\n",
      "96\t50\n",
      "\n",
      "80\t72\n",
      "\n",
      "94\t72\n",
      "\n",
      "66\t57\n",
      "\n",
      "107\t57\n",
      "\n",
      "56\t26\t61\t61\n",
      "\n",
      "73\t48\t11\t5\n",
      "\n",
      "91\t48\t11\t6\n",
      "\n",
      "80\t51\t13\t15\n",
      "\n",
      "79\t69\t17\t6\n",
      "\n",
      "62\t49\t8\t17\n",
      "\n",
      "105\t49\t7\t17\n",
      "\n",
      "{'right_eye': (78, 50), 'left_eye': (96, 50), 'face_bbox': (56, 26, 61, 61)}\n"
     ]
    }
   ],
   "source": [
    "# bbox 정보 구조화\n",
    "# 코 끝(0), 우안(1), 좌안(2), 우측 입꼬리(3), 좌측 입꼬리(4), 우측 귀(5), 좌측 귀(6)\n",
    "def bbox_info(txt_path):\n",
    "    \n",
    "    info = {}\n",
    "    \n",
    "    with open(dataset_path + txt_path , 'r') as f:\n",
    "        \n",
    "        # 좌안, 우안 위치 확인\n",
    "        for i in range(0, 7):\n",
    "            coordinate = f.readline()\n",
    "            print(coordinate)\n",
    "            if i == 1:\n",
    "                info['right_eye'] = tuple(map(int, coordinate.replace('\\n', '').split('\\t')))\n",
    "            elif i == 2:\n",
    "                info['left_eye'] = tuple(map(int, coordinate.replace('\\n', '').split('\\t')))\n",
    "        \n",
    "        # 얼굴 bbox\n",
    "        face_bbox = f.readline()\n",
    "        print(face_bbox)\n",
    "        info['face_bbox'] = tuple(map(int, face_bbox.replace('\\n', '').split('\\t')))\n",
    "        \n",
    "        while True:\n",
    "            \n",
    "            bbox = f.readline()\n",
    "            \n",
    "            if string == '':\n",
    "                break\n",
    "                \n",
    "            \n",
    "            print(bbox)\n",
    "    return info\n",
    "print(bbox_info('/19062431/S001/L1/E01/C7.txt'))"
   ]
  },
  {
   "cell_type": "code",
   "execution_count": null,
   "id": "e504a9b8-74e1-4e04-a4d2-939b4d8bcfc8",
   "metadata": {},
   "outputs": [],
   "source": [
    "\n"
   ]
  }
 ],
 "metadata": {
  "kernelspec": {
   "display_name": "Python 3 (ipykernel)",
   "language": "python",
   "name": "python3"
  },
  "language_info": {
   "codemirror_mode": {
    "name": "ipython",
    "version": 3
   },
   "file_extension": ".py",
   "mimetype": "text/x-python",
   "name": "python",
   "nbconvert_exporter": "python",
   "pygments_lexer": "ipython3",
   "version": "3.9.7"
  }
 },
 "nbformat": 4,
 "nbformat_minor": 5
}
